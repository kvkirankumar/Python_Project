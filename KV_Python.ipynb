{
  "nbformat": 4,
  "nbformat_minor": 0,
  "metadata": {
    "colab": {
      "name": "KV_Python.ipynb",
      "provenance": [],
      "collapsed_sections": [],
      "authorship_tag": "ABX9TyPA7BCSLY1WdFLU5HVNvPjn",
      "include_colab_link": true
    },
    "kernelspec": {
      "name": "python3",
      "display_name": "Python 3"
    }
  },
  "cells": [
    {
      "cell_type": "markdown",
      "metadata": {
        "id": "view-in-github",
        "colab_type": "text"
      },
      "source": [
        "<a href=\"https://colab.research.google.com/github/kvkirankumar/Python_Project/blob/master/KV_Python.ipynb\" target=\"_parent\"><img src=\"https://colab.research.google.com/assets/colab-badge.svg\" alt=\"Open In Colab\"/></a>"
      ]
    },
    {
      "cell_type": "code",
      "metadata": {
        "colab": {
          "base_uri": "https://localhost:8080/"
        },
        "id": "xt_Jm3EyKAAt",
        "outputId": "586e613a-7ab6-49c5-a083-91b3253568ca"
      },
      "source": [
        "i=45\n",
        "print ('This is my first variable in python' , i)\n",
        "k = i % 2\n",
        "print ('Value of k', k )\n",
        "k = int(input('Enter a number'))\n",
        "print ('Buddy, you entered ',k)\n"
      ],
      "execution_count": null,
      "outputs": [
        {
          "output_type": "stream",
          "text": [
            "This is my first variable in python 45\n",
            "Value of k 1\n",
            "Enter a number232323232323232323232323232323232323232323232323232323\n",
            "Buddy, you entered  232323232323232323232323232323232323232323232323232323\n"
          ],
          "name": "stdout"
        }
      ]
    },
    {
      "cell_type": "code",
      "metadata": {
        "colab": {
          "base_uri": "https://localhost:8080/"
        },
        "id": "o1uf_2QIdbOG",
        "outputId": "4acc6763-ad76-4f41-8116-e3e89e048a2c"
      },
      "source": [
        "words =['Hariteja','Tamoghneshu','Venkata Kiran Kumar','Gowthami']\n",
        "for i in words:\n",
        "     print (i,end=\" \")\n",
        "print (\"\\n\")\n",
        "print (\"Start Over\")\n",
        "for i in range(10):\n",
        "    print (i, end='\\t ')"
      ],
      "execution_count": null,
      "outputs": [
        {
          "output_type": "stream",
          "text": [
            "Hariteja Tamoghneshu Venkata Kiran Kumar Gowthami \n",
            "\n",
            "Start Over\n",
            "0\t 1\t 2\t 3\t 4\t 5\t 6\t 7\t 8\t 9\t "
          ],
          "name": "stdout"
        }
      ]
    },
    {
      "cell_type": "markdown",
      "metadata": {
        "id": "LIGlECv-npXQ"
      },
      "source": [
        "Continue, Break and Pass clauses"
      ]
    },
    {
      "cell_type": "code",
      "metadata": {
        "colab": {
          "base_uri": "https://localhost:8080/"
        },
        "id": "AKKjFtWenssX",
        "outputId": "c77463ca-8cac-4f74-e9ce-dc808a28e484"
      },
      "source": [
        "for i in range (1 , 50):\n",
        "  if (i % 2 == 0):\n",
        "      print (i, ' is an even number')\n",
        "      continue\n",
        "  else:\n",
        "     print (i, ' is an odd number')\n",
        "     pass;\n",
        "  if i > 25:\n",
        "      break;\n",
        "    \n",
        "  # Comments here\n"
      ],
      "execution_count": null,
      "outputs": [
        {
          "output_type": "stream",
          "text": [
            "1  is an odd number\n",
            "2  is an even number\n",
            "3  is an odd number\n",
            "4  is an even number\n",
            "5  is an odd number\n",
            "6  is an even number\n",
            "7  is an odd number\n",
            "8  is an even number\n",
            "9  is an odd number\n",
            "10  is an even number\n",
            "11  is an odd number\n",
            "12  is an even number\n",
            "13  is an odd number\n",
            "14  is an even number\n",
            "15  is an odd number\n",
            "16  is an even number\n",
            "17  is an odd number\n",
            "18  is an even number\n",
            "19  is an odd number\n",
            "20  is an even number\n",
            "21  is an odd number\n",
            "22  is an even number\n",
            "23  is an odd number\n",
            "24  is an even number\n",
            "25  is an odd number\n",
            "26  is an even number\n",
            "27  is an odd number\n"
          ],
          "name": "stdout"
        }
      ]
    },
    {
      "cell_type": "markdown",
      "metadata": {
        "id": "gD2kyF4OpH01"
      },
      "source": [
        "**Functions**"
      ]
    },
    {
      "cell_type": "code",
      "metadata": {
        "colab": {
          "base_uri": "https://localhost:8080/"
        },
        "id": "EfXyMjyZxyfc",
        "outputId": "0dabaf6a-595b-443a-8473-4c806595b029"
      },
      "source": [
        "def fib2(n):  \n",
        "     \"\"\"\n",
        "     FIBONACCI SERIES\n",
        "     \n",
        "     Return a list containing the Fibonacci series up to n.\"\"\"\n",
        "     result = []\n",
        "     a, b = 0, 1\n",
        "     while a < n:\n",
        "         result.append(a)    # see below         # a = b         # b = a+b\n",
        "         #b = a+b\n",
        "         #a = b\n",
        "         a, b = b, a+b\n",
        "         #print (a,b)\n",
        "     return result\n",
        ";\n",
        "print (fib2.__doc__)\n",
        "print()\n",
        "print ('The fibonacci of 20  is',fib2(20));\n",
        "f1=fib2\n",
        "print('The fibonacci f1(30) is', f1(30))\n",
        "f2=fib2(50)\n",
        "print('the fibonacci 50  f2 is', f2)\n"
      ],
      "execution_count": null,
      "outputs": [
        {
          "output_type": "stream",
          "text": [
            "\n",
            "     FIBONACCI SERIES\n",
            "     \n",
            "     Return a list containing the Fibonacci series up to n.\n",
            "\n",
            "The fibonacci of 20  is [0, 1, 1, 2, 3, 5, 8, 13]\n",
            "The fibonacci f1(30) is [0, 1, 1, 2, 3, 5, 8, 13, 21]\n",
            "the fibonacci 50  f2 is [0, 1, 1, 2, 3, 5, 8, 13, 21, 34]\n"
          ],
          "name": "stdout"
        }
      ]
    },
    {
      "cell_type": "markdown",
      "metadata": {
        "id": "JdF_yOJ-95R-"
      },
      "source": [
        "**Interpreting**   **a,b = b, a+b**\n",
        "\n",
        "In the above statement sequence of execution does not matter. Because the values of left hand side will **not** be altered immediately as when right side expressions are evaluated. In other words, the above expression is not equivalent to the below expression.\n",
        "\n",
        "b = a+b;\n",
        "a=b;\n",
        "        \n",
        "        (OR) \n",
        "a=b;\n",
        "b=a+b;\n",
        "\n",
        "The very first expression can be re-written as\n",
        "\n",
        "a1 =a;\n",
        "\n",
        "b1 =b;\n",
        "\n",
        "a = b1;\n",
        "\n",
        "b = a1+b1;"
      ]
    },
    {
      "cell_type": "markdown",
      "metadata": {
        "id": "TDy-5BBVDtEr"
      },
      "source": [
        "**Positional Arugments and Keyword Arguments**\n",
        "\n",
        "Parrot(1000)                                          # 1 positional argument \n",
        "\n",
        "parrot(voltage=1000)                                  # 1 keyword argument\n",
        "\n",
        "parrot(voltage=1000000, action='VOOOOOM')             # 2 keyword arguments\n",
        "\n",
        "parrot(action='VOOOOOM', voltage=1000000)             # 2 keyword arguments\n",
        "\n",
        "parrot('a million', 'bereft of life', 'jump')         # 3 positional arguments\n",
        "\n",
        "parrot('a thousand', state='pushing up the daisies')  # 1 positional, 1 keyword\n",
        "\n",
        "def parrot(voltage, state='a stiff', action='voom', type='Norwegian Blue'):\n",
        "    print(\"-- This parrot wouldn't\", action, end=' ')\n",
        "    print(\"if you put\", voltage, \"volts through it.\")\n",
        "    print(\"-- Lovely plumage, the\", type)\n",
        "    print(\"-- It's\", state, \"!\")"
      ]
    },
    {
      "cell_type": "markdown",
      "metadata": {
        "id": "Is0C8tycTOQm"
      },
      "source": [
        "Lists are Mutalble. It maintains the same ID though content is changing.\n",
        "Lists are heterogeneous. Lists and Dictionaliries are Mutable.\n",
        "Everything else is immutable. Their ids keep changing\n",
        "\n",
        "L1 == L2 // Structural equivalence\n",
        "\n",
        "\n",
        "L1 is L2 // Object identity equal\n",
        "\n",
        "shallow copy, deep copy, numpie\n",
        "\n",
        "Tuple is immutable. It is denoted ()\n",
        "\n",
        "Dictionary is denoted {}"
      ]
    }
  ]
}