{
  "nbformat": 4,
  "nbformat_minor": 0,
  "metadata": {
    "colab": {
      "name": "KV_Python.ipynb",
      "provenance": [],
      "collapsed_sections": [],
      "authorship_tag": "ABX9TyPVHIrqb6mBnPwsDt9H1snE",
      "include_colab_link": true
    },
    "kernelspec": {
      "name": "python3",
      "display_name": "Python 3"
    }
  },
  "cells": [
    {
      "cell_type": "markdown",
      "metadata": {
        "id": "view-in-github",
        "colab_type": "text"
      },
      "source": [
        "<a href=\"https://colab.research.google.com/github/kvkirankumar/Python_Project/blob/master/KV_Python.ipynb\" target=\"_parent\"><img src=\"https://colab.research.google.com/assets/colab-badge.svg\" alt=\"Open In Colab\"/></a>"
      ]
    },
    {
      "cell_type": "code",
      "metadata": {
        "colab": {
          "base_uri": "https://localhost:8080/"
        },
        "id": "xt_Jm3EyKAAt",
        "outputId": "586e613a-7ab6-49c5-a083-91b3253568ca"
      },
      "source": [
        "i=45\n",
        "print ('This is my first variable in python' , i)\n",
        "k = i % 2\n",
        "print ('Value of k', k )\n",
        "k = int(input('Enter a number'))\n",
        "print ('Buddy, you entered ',k)\n"
      ],
      "execution_count": 8,
      "outputs": [
        {
          "output_type": "stream",
          "text": [
            "This is my first variable in python 45\n",
            "Value of k 1\n",
            "Enter a number232323232323232323232323232323232323232323232323232323\n",
            "Buddy, you entered  232323232323232323232323232323232323232323232323232323\n"
          ],
          "name": "stdout"
        }
      ]
    },
    {
      "cell_type": "code",
      "metadata": {
        "colab": {
          "base_uri": "https://localhost:8080/"
        },
        "id": "o1uf_2QIdbOG",
        "outputId": "4acc6763-ad76-4f41-8116-e3e89e048a2c"
      },
      "source": [
        "words =['Hariteja','Tamoghneshu','Venkata Kiran Kumar','Gowthami']\n",
        "for i in words:\n",
        "     print (i,end=\" \")\n",
        "print (\"\\n\")\n",
        "print (\"Start Over\")\n",
        "for i in range(10):\n",
        "    print (i, end='\\t ')"
      ],
      "execution_count": 20,
      "outputs": [
        {
          "output_type": "stream",
          "text": [
            "Hariteja Tamoghneshu Venkata Kiran Kumar Gowthami \n",
            "\n",
            "Start Over\n",
            "0\t 1\t 2\t 3\t 4\t 5\t 6\t 7\t 8\t 9\t "
          ],
          "name": "stdout"
        }
      ]
    },
    {
      "cell_type": "markdown",
      "metadata": {
        "id": "LIGlECv-npXQ"
      },
      "source": [
        "Continue, Break and Pass clauses"
      ]
    },
    {
      "cell_type": "code",
      "metadata": {
        "colab": {
          "base_uri": "https://localhost:8080/"
        },
        "id": "AKKjFtWenssX",
        "outputId": "c77463ca-8cac-4f74-e9ce-dc808a28e484"
      },
      "source": [
        "for i in range (1 , 50):\n",
        "  if (i % 2 == 0):\n",
        "      print (i, ' is an even number')\n",
        "      continue\n",
        "  else:\n",
        "     print (i, ' is an odd number')\n",
        "     pass;\n",
        "  if i > 25:\n",
        "      break;\n",
        "    \n",
        "  # Comments here\n"
      ],
      "execution_count": 26,
      "outputs": [
        {
          "output_type": "stream",
          "text": [
            "1  is an odd number\n",
            "2  is an even number\n",
            "3  is an odd number\n",
            "4  is an even number\n",
            "5  is an odd number\n",
            "6  is an even number\n",
            "7  is an odd number\n",
            "8  is an even number\n",
            "9  is an odd number\n",
            "10  is an even number\n",
            "11  is an odd number\n",
            "12  is an even number\n",
            "13  is an odd number\n",
            "14  is an even number\n",
            "15  is an odd number\n",
            "16  is an even number\n",
            "17  is an odd number\n",
            "18  is an even number\n",
            "19  is an odd number\n",
            "20  is an even number\n",
            "21  is an odd number\n",
            "22  is an even number\n",
            "23  is an odd number\n",
            "24  is an even number\n",
            "25  is an odd number\n",
            "26  is an even number\n",
            "27  is an odd number\n"
          ],
          "name": "stdout"
        }
      ]
    },
    {
      "cell_type": "markdown",
      "metadata": {
        "id": "gD2kyF4OpH01"
      },
      "source": [
        "**Functions**"
      ]
    },
    {
      "cell_type": "code",
      "metadata": {
        "colab": {
          "base_uri": "https://localhost:8080/"
        },
        "id": "EfXyMjyZxyfc",
        "outputId": "abe898e4-38fd-456d-9d5a-8f9d125052f9"
      },
      "source": [
        "def fib2(n):  \n",
        "     \"\"\"\n",
        "     FIBONACCI SERIES\n",
        "     \n",
        "     Return a list containing the Fibonacci series up to n.\"\"\"\n",
        "     result = []\n",
        "     a, b = 0, 1\n",
        "     while a < n:\n",
        "         result.append(a)    # see below\n",
        "         a, b = b, a+b\n",
        "     return result\n",
        ";\n",
        "print (fib2.__doc__)\n",
        "print()\n",
        "print ('The fibonacci of 20  is',fib2(20));\n",
        "f1=fib2\n",
        "print('The fibonacci f1(30) is', f1(30))\n",
        "f2=fib2(50)\n",
        "print('the fibonacci 50  f2 is', f2)\n"
      ],
      "execution_count": 37,
      "outputs": [
        {
          "output_type": "stream",
          "text": [
            "\n",
            "     FIBONACCI SERIES\n",
            "     \n",
            "     Return a list containing the Fibonacci series up to n.\n",
            "\n",
            "The fibonacci of 20  is [0, 1, 1, 2, 3, 5, 8, 13]\n",
            "The fibonacci f1(30) is [0, 1, 1, 2, 3, 5, 8, 13, 21]\n",
            "the fibonacci 50  f2 is [0, 1, 1, 2, 3, 5, 8, 13, 21, 34]\n"
          ],
          "name": "stdout"
        }
      ]
    }
  ]
}