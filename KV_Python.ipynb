{
  "nbformat": 4,
  "nbformat_minor": 0,
  "metadata": {
    "colab": {
      "name": "KV_Python.ipynb",
      "provenance": [],
      "authorship_tag": "ABX9TyOnAUFe/wAvW22j622/95qJ",
      "include_colab_link": true
    },
    "kernelspec": {
      "name": "python3",
      "display_name": "Python 3"
    }
  },
  "cells": [
    {
      "cell_type": "markdown",
      "metadata": {
        "id": "view-in-github",
        "colab_type": "text"
      },
      "source": [
        "<a href=\"https://colab.research.google.com/github/kvkirankumar/hello-world/blob/master/KV_Python.ipynb\" target=\"_parent\"><img src=\"https://colab.research.google.com/assets/colab-badge.svg\" alt=\"Open In Colab\"/></a>"
      ]
    },
    {
      "cell_type": "code",
      "metadata": {
        "colab": {
          "base_uri": "https://localhost:8080/"
        },
        "id": "xt_Jm3EyKAAt",
        "outputId": "5224e295-3438-4125-dc91-cd5d7f397334"
      },
      "source": [
        "i=45\n",
        "print ('This is my first variable in python' , i)\n",
        "k = i % 2\n",
        "print ('Value of k', k )\n",
        "k = input('Enter a number')\n",
        "print ('Buddy, you entered ',k)\n"
      ],
      "execution_count": 6,
      "outputs": [
        {
          "output_type": "stream",
          "text": [
            "This is my first variable in python 45\n",
            "Value of k 1\n",
            "Enter a numberq\n",
            "Buddy, you entered  q\n"
          ],
          "name": "stdout"
        }
      ]
    }
  ]
}