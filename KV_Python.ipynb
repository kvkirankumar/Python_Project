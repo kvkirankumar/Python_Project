{
  "nbformat": 4,
  "nbformat_minor": 0,
  "metadata": {
    "colab": {
      "name": "KV_Python.ipynb",
      "provenance": [],
      "authorship_tag": "ABX9TyME4xwrbIPwZGPqZ+bjvvvl",
      "include_colab_link": true
    },
    "kernelspec": {
      "name": "python3",
      "display_name": "Python 3"
    }
  },
  "cells": [
    {
      "cell_type": "markdown",
      "metadata": {
        "id": "view-in-github",
        "colab_type": "text"
      },
      "source": [
        "<a href=\"https://colab.research.google.com/github/kvkirankumar/Python_Project/blob/master/KV_Python.ipynb\" target=\"_parent\"><img src=\"https://colab.research.google.com/assets/colab-badge.svg\" alt=\"Open In Colab\"/></a>"
      ]
    },
    {
      "cell_type": "code",
      "metadata": {
        "colab": {
          "base_uri": "https://localhost:8080/"
        },
        "id": "xt_Jm3EyKAAt",
        "outputId": "586e613a-7ab6-49c5-a083-91b3253568ca"
      },
      "source": [
        "i=45\n",
        "print ('This is my first variable in python' , i)\n",
        "k = i % 2\n",
        "print ('Value of k', k )\n",
        "k = int(input('Enter a number'))\n",
        "print ('Buddy, you entered ',k)\n"
      ],
      "execution_count": 8,
      "outputs": [
        {
          "output_type": "stream",
          "text": [
            "This is my first variable in python 45\n",
            "Value of k 1\n",
            "Enter a number232323232323232323232323232323232323232323232323232323\n",
            "Buddy, you entered  232323232323232323232323232323232323232323232323232323\n"
          ],
          "name": "stdout"
        }
      ]
    },
    {
      "cell_type": "code",
      "metadata": {
        "colab": {
          "base_uri": "https://localhost:8080/"
        },
        "id": "o1uf_2QIdbOG",
        "outputId": "4acc6763-ad76-4f41-8116-e3e89e048a2c"
      },
      "source": [
        "words =['Hariteja','Tamoghneshu','Venkata Kiran Kumar','Gowthami']\n",
        "for i in words:\n",
        "     print (i,end=\" \")\n",
        "print (\"\\n\")\n",
        "print (\"Start Over\")\n",
        "for i in range(10):\n",
        "    print (i, end='\\t ')"
      ],
      "execution_count": 20,
      "outputs": [
        {
          "output_type": "stream",
          "text": [
            "Hariteja Tamoghneshu Venkata Kiran Kumar Gowthami \n",
            "\n",
            "Start Over\n",
            "0\t 1\t 2\t 3\t 4\t 5\t 6\t 7\t 8\t 9\t "
          ],
          "name": "stdout"
        }
      ]
    }
  ]
}